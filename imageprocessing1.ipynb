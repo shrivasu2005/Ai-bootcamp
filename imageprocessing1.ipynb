{
 "cells": [
  {
   "cell_type": "code",
   "execution_count": 1,
   "id": "20f9564e-425d-455d-984c-2e46a84b62e4",
   "metadata": {},
   "outputs": [
    {
     "name": "stdout",
     "output_type": "stream",
     "text": [
      "Requirement already satisfied: numpy in c:\\users\\samsung\\anaconda3\\lib\\site-packages (1.26.4)\n",
      "Requirement already satisfied: matplotlib in c:\\users\\samsung\\anaconda3\\lib\\site-packages (3.9.2)\n",
      "Requirement already satisfied: contourpy>=1.0.1 in c:\\users\\samsung\\anaconda3\\lib\\site-packages (from matplotlib) (1.2.0)\n",
      "Requirement already satisfied: cycler>=0.10 in c:\\users\\samsung\\anaconda3\\lib\\site-packages (from matplotlib) (0.11.0)\n",
      "Requirement already satisfied: fonttools>=4.22.0 in c:\\users\\samsung\\anaconda3\\lib\\site-packages (from matplotlib) (4.51.0)\n",
      "Requirement already satisfied: kiwisolver>=1.3.1 in c:\\users\\samsung\\anaconda3\\lib\\site-packages (from matplotlib) (1.4.4)\n",
      "Requirement already satisfied: numpy>=1.23 in c:\\users\\samsung\\anaconda3\\lib\\site-packages (from matplotlib) (1.26.4)\n",
      "Requirement already satisfied: packaging>=20.0 in c:\\users\\samsung\\anaconda3\\lib\\site-packages (from matplotlib) (24.1)\n",
      "Requirement already satisfied: pillow>=8 in c:\\users\\samsung\\anaconda3\\lib\\site-packages (from matplotlib) (10.4.0)\n",
      "Requirement already satisfied: pyparsing>=2.3.1 in c:\\users\\samsung\\anaconda3\\lib\\site-packages (from matplotlib) (3.1.2)\n",
      "Requirement already satisfied: python-dateutil>=2.7 in c:\\users\\samsung\\anaconda3\\lib\\site-packages (from matplotlib) (2.9.0.post0)\n",
      "Requirement already satisfied: six>=1.5 in c:\\users\\samsung\\anaconda3\\lib\\site-packages (from python-dateutil>=2.7->matplotlib) (1.16.0)\n",
      "Collecting opencv-python\n",
      "  Downloading opencv_python-4.11.0.86-cp37-abi3-win_amd64.whl.metadata (20 kB)\n",
      "Requirement already satisfied: numpy>=1.21.2 in c:\\users\\samsung\\anaconda3\\lib\\site-packages (from opencv-python) (1.26.4)\n",
      "Downloading opencv_python-4.11.0.86-cp37-abi3-win_amd64.whl (39.5 MB)\n",
      "   ---------------------------------------- 0.0/39.5 MB ? eta -:--:--\n",
      "    --------------------------------------- 0.5/39.5 MB 3.4 MB/s eta 0:00:12\n",
      "   - -------------------------------------- 1.6/39.5 MB 4.0 MB/s eta 0:00:10\n",
      "   -- ------------------------------------- 2.4/39.5 MB 4.5 MB/s eta 0:00:09\n",
      "   --- ------------------------------------ 3.7/39.5 MB 4.7 MB/s eta 0:00:08\n",
      "   ---- ----------------------------------- 4.7/39.5 MB 5.0 MB/s eta 0:00:07\n",
      "   ------ --------------------------------- 6.3/39.5 MB 5.3 MB/s eta 0:00:07\n",
      "   ------- -------------------------------- 7.9/39.5 MB 5.6 MB/s eta 0:00:06\n",
      "   --------- ------------------------------ 9.2/39.5 MB 5.8 MB/s eta 0:00:06\n",
      "   ---------- ----------------------------- 10.5/39.5 MB 5.8 MB/s eta 0:00:06\n",
      "   ------------ --------------------------- 12.1/39.5 MB 6.0 MB/s eta 0:00:05\n",
      "   ------------- -------------------------- 13.6/39.5 MB 6.2 MB/s eta 0:00:05\n",
      "   -------------- ------------------------- 14.7/39.5 MB 6.1 MB/s eta 0:00:05\n",
      "   --------------- ------------------------ 15.2/39.5 MB 5.8 MB/s eta 0:00:05\n",
      "   ---------------- ----------------------- 16.5/39.5 MB 5.9 MB/s eta 0:00:04\n",
      "   ----------------- ---------------------- 17.3/39.5 MB 5.7 MB/s eta 0:00:04\n",
      "   ------------------ --------------------- 18.1/39.5 MB 5.5 MB/s eta 0:00:04\n",
      "   ------------------- -------------------- 18.9/39.5 MB 5.4 MB/s eta 0:00:04\n",
      "   -------------------- ------------------- 20.2/39.5 MB 5.5 MB/s eta 0:00:04\n",
      "   --------------------- ------------------ 21.0/39.5 MB 5.4 MB/s eta 0:00:04\n",
      "   ---------------------- ----------------- 21.8/39.5 MB 5.3 MB/s eta 0:00:04\n",
      "   ---------------------- ----------------- 22.3/39.5 MB 5.2 MB/s eta 0:00:04\n",
      "   ----------------------- ---------------- 23.6/39.5 MB 5.2 MB/s eta 0:00:04\n",
      "   ------------------------ --------------- 24.4/39.5 MB 5.1 MB/s eta 0:00:03\n",
      "   ------------------------- -------------- 25.2/39.5 MB 5.0 MB/s eta 0:00:03\n",
      "   -------------------------- ------------- 25.7/39.5 MB 5.0 MB/s eta 0:00:03\n",
      "   -------------------------- ------------- 26.5/39.5 MB 4.9 MB/s eta 0:00:03\n",
      "   --------------------------- ------------ 27.3/39.5 MB 4.8 MB/s eta 0:00:03\n",
      "   ---------------------------- ----------- 27.8/39.5 MB 4.8 MB/s eta 0:00:03\n",
      "   ---------------------------- ----------- 28.3/39.5 MB 4.7 MB/s eta 0:00:03\n",
      "   ----------------------------- ---------- 28.8/39.5 MB 4.6 MB/s eta 0:00:03\n",
      "   ----------------------------- ---------- 29.1/39.5 MB 4.5 MB/s eta 0:00:03\n",
      "   ----------------------------- ---------- 29.4/39.5 MB 4.4 MB/s eta 0:00:03\n",
      "   ------------------------------ --------- 29.6/39.5 MB 4.3 MB/s eta 0:00:03\n",
      "   ------------------------------ --------- 30.1/39.5 MB 4.2 MB/s eta 0:00:03\n",
      "   ------------------------------- -------- 30.7/39.5 MB 4.1 MB/s eta 0:00:03\n",
      "   ------------------------------- -------- 30.9/39.5 MB 4.1 MB/s eta 0:00:03\n",
      "   ------------------------------- -------- 31.5/39.5 MB 4.0 MB/s eta 0:00:03\n",
      "   -------------------------------- ------- 31.7/39.5 MB 4.0 MB/s eta 0:00:02\n",
      "   -------------------------------- ------- 32.2/39.5 MB 3.9 MB/s eta 0:00:02\n",
      "   --------------------------------- ------ 32.8/39.5 MB 3.9 MB/s eta 0:00:02\n",
      "   --------------------------------- ------ 33.6/39.5 MB 3.9 MB/s eta 0:00:02\n",
      "   ---------------------------------- ----- 33.8/39.5 MB 3.8 MB/s eta 0:00:02\n",
      "   ---------------------------------- ----- 34.1/39.5 MB 3.8 MB/s eta 0:00:02\n",
      "   ----------------------------------- ---- 34.6/39.5 MB 3.7 MB/s eta 0:00:02\n",
      "   ----------------------------------- ---- 35.1/39.5 MB 3.7 MB/s eta 0:00:02\n",
      "   ----------------------------------- ---- 35.4/39.5 MB 3.6 MB/s eta 0:00:02\n",
      "   ------------------------------------ --- 35.9/39.5 MB 3.6 MB/s eta 0:00:01\n",
      "   ------------------------------------ --- 36.2/39.5 MB 3.6 MB/s eta 0:00:01\n",
      "   ------------------------------------ --- 36.4/39.5 MB 3.5 MB/s eta 0:00:01\n",
      "   ------------------------------------- -- 37.0/39.5 MB 3.5 MB/s eta 0:00:01\n",
      "   ------------------------------------- -- 37.5/39.5 MB 3.4 MB/s eta 0:00:01\n",
      "   ------------------------------------- -- 37.5/39.5 MB 3.4 MB/s eta 0:00:01\n",
      "   -------------------------------------- - 37.7/39.5 MB 3.4 MB/s eta 0:00:01\n",
      "   -------------------------------------- - 38.3/39.5 MB 3.3 MB/s eta 0:00:01\n",
      "   -------------------------------------- - 38.3/39.5 MB 3.3 MB/s eta 0:00:01\n",
      "   ---------------------------------------  38.8/39.5 MB 3.2 MB/s eta 0:00:01\n",
      "   ---------------------------------------  39.1/39.5 MB 3.2 MB/s eta 0:00:01\n",
      "   ---------------------------------------  39.3/39.5 MB 3.2 MB/s eta 0:00:01\n",
      "   ---------------------------------------- 39.5/39.5 MB 3.1 MB/s eta 0:00:00\n",
      "Installing collected packages: opencv-python\n",
      "Successfully installed opencv-python-4.11.0.86\n"
     ]
    }
   ],
   "source": [
    "!pip install numpy\n",
    "!pip install matplotlib\n",
    "!pip install opencv-python"
   ]
  },
  {
   "cell_type": "code",
   "execution_count": 2,
   "id": "dfdd9bae-dfb8-46b5-9029-c04bae761a31",
   "metadata": {},
   "outputs": [],
   "source": [
    "import cv2\n",
    "import numpy as np\n",
    "import matplotlib.pyplot as plt"
   ]
  },
  {
   "cell_type": "code",
   "execution_count": 23,
   "id": "164fe5f2-811b-4ec7-942b-b65550da22f4",
   "metadata": {},
   "outputs": [],
   "source": [
    "img = cv2.imread(r\"C:\\Users\\Samsung\\Downloads\\code wallpaper.png\")"
   ]
  },
  {
   "cell_type": "code",
   "execution_count": 25,
   "id": "d144eaf7-b9de-4bfb-add9-4f619f87f2c1",
   "metadata": {},
   "outputs": [
    {
     "name": "stdout",
     "output_type": "stream",
     "text": [
      "<class 'numpy.ndarray'>\n"
     ]
    }
   ],
   "source": [
    "print(type(img))"
   ]
  },
  {
   "cell_type": "code",
   "execution_count": null,
   "id": "49514cdc-5246-469f-9417-cbf66493de67",
   "metadata": {},
   "outputs": [],
   "source": [
    "cv2.imshow(\"bootcamp\",img)\n",
    "cv2.waitKey(0)\n",
    "cv2.destroyAllWindows()"
   ]
  },
  {
   "cell_type": "code",
   "execution_count": null,
   "id": "e99bf770-d911-4e3f-ab0b-e965884f5988",
   "metadata": {},
   "outputs": [],
   "source": [
    "print(img.shape)"
   ]
  },
  {
   "cell_type": "code",
   "execution_count": null,
   "id": "6f78dd86-0176-4d9d-bdb5-b022dbeecb9e",
   "metadata": {},
   "outputs": [],
   "source": [
    "img_resize = cv2.resize(img,(203,300))"
   ]
  },
  {
   "cell_type": "code",
   "execution_count": null,
   "id": "51006862-8869-42fd-a38c-b14508260913",
   "metadata": {},
   "outputs": [],
   "source": [
    "cv2.imshow(\"manya\",img_resize)\n",
    "cv2.waitKey(0)\n",
    "cv2.destroyAllWindows()"
   ]
  },
  {
   "cell_type": "code",
   "execution_count": null,
   "id": "f32d435b-87ac-45b0-a67a-533d61037b60",
   "metadata": {},
   "outputs": [],
   "source": [
    "print(img_resize.shape)"
   ]
  },
  {
   "cell_type": "code",
   "execution_count": null,
   "id": "9fa485d8-c5a9-47eb-b90b-d7f288489486",
   "metadata": {},
   "outputs": [],
   "source": [
    "img_flip = cv2.flip(img,1)"
   ]
  },
  {
   "cell_type": "code",
   "execution_count": null,
   "id": "afc080e3-e182-4db0-9a7b-076f9f46f6e2",
   "metadata": {},
   "outputs": [],
   "source": [
    "cv2.imshow(\"flipped Image\",img_flip)\n",
    "cv2.waitKey(0)\n",
    "cv2.destroyAllWindows()"
   ]
  },
  {
   "cell_type": "code",
   "execution_count": null,
   "id": "43d4efd7-fe0c-4bfa-88b8-7e3cac42572b",
   "metadata": {},
   "outputs": [],
   "source": [
    "img_crop = img[100:300,200:500]"
   ]
  },
  {
   "cell_type": "code",
   "execution_count": null,
   "id": "310e0d8b-b5da-4d6f-9298-6726330b5b42",
   "metadata": {},
   "outputs": [],
   "source": [
    "cv2.imshow(\"Cropped Image\",img_crop)\n",
    "cv2.waitKey(0)\n",
    "cv2.destroyAllWindows()"
   ]
  },
  {
   "cell_type": "code",
   "execution_count": null,
   "id": "5b5178a9-5607-471f-9e4e-e9bcdef91872",
   "metadata": {},
   "outputs": [],
   "source": [
    "cv2.imwrite(r\"croppedImg16.jpg\",img_crop)"
   ]
  },
  {
   "cell_type": "code",
   "execution_count": null,
   "id": "fe9180bf-3788-41c2-a95e-12ad378db14a",
   "metadata": {},
   "outputs": [],
   "source": []
  }
 ],
 "metadata": {
  "kernelspec": {
   "display_name": "Python [conda env:base] *",
   "language": "python",
   "name": "conda-base-py"
  },
  "language_info": {
   "codemirror_mode": {
    "name": "ipython",
    "version": 3
   },
   "file_extension": ".py",
   "mimetype": "text/x-python",
   "name": "python",
   "nbconvert_exporter": "python",
   "pygments_lexer": "ipython3",
   "version": "3.12.7"
  }
 },
 "nbformat": 4,
 "nbformat_minor": 5
}
