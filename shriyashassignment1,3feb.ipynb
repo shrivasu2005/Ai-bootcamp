{
 "cells": [
  {
   "cell_type": "code",
   "execution_count": 1,
   "id": "e65b60bd-e030-42ed-a906-50e134aa7953",
   "metadata": {},
   "outputs": [
    {
     "name": "stdout",
     "output_type": "stream",
     "text": [
      "My name is shri.\n",
      ".irhs si eman yM\n"
     ]
    }
   ],
   "source": [
    "# This Is programmFor to Print String In Reverse Order \n",
    "\n",
    "str = \"My name is shri.\"\n",
    "print(str)\n",
    "rev_str = str[::-1]\n",
    "print(rev_str)"
   ]
  },
  {
   "cell_type": "code",
   "execution_count": 3,
   "id": "f4255a56-ea9c-4570-91f3-b36fcffb410e",
   "metadata": {},
   "outputs": [
    {
     "name": "stdout",
     "output_type": "stream",
     "text": [
      "Random_Number [68, 65, 16, 68, 25, 92, 31, 30, 87, 82]\n",
      "Even_Numbers from Random numbers : [68, 16, 68, 92, 30, 82]\n"
     ]
    }
   ],
   "source": [
    "# This Is Programmefor To Pic Randaom Numners and even Numbers\n",
    "\n",
    "import random as rd\n",
    "random_num = [rd.randint(1,100) for _ in range(10)]\n",
    "print(\"Random_Number\",random_num)\n",
    "\n",
    "even_num = [num for num in random_num if num % 2 == 0]\n",
    "print(\"Even_Numbers from Random numbers :\",even_num)"
   ]
  },
  {
   "cell_type": "code",
   "execution_count": null,
   "id": "13307df8-a124-4fce-b525-d6e3dec4c1fe",
   "metadata": {},
   "outputs": [],
   "source": []
  }
 ],
 "metadata": {
  "kernelspec": {
   "display_name": "Python [conda env:base] *",
   "language": "python",
   "name": "conda-base-py"
  },
  "language_info": {
   "codemirror_mode": {
    "name": "ipython",
    "version": 3
   },
   "file_extension": ".py",
   "mimetype": "text/x-python",
   "name": "python",
   "nbconvert_exporter": "python",
   "pygments_lexer": "ipython3",
   "version": "3.12.7"
  }
 },
 "nbformat": 4,
 "nbformat_minor": 5
}
